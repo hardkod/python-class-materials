{
 "cells": [
  {
   "cell_type": "markdown",
   "id": "a6eca081",
   "metadata": {},
   "source": [
    "# Definiowanie funkcji"
   ]
  },
  {
   "cell_type": "markdown",
   "id": "3404bf21",
   "metadata": {},
   "source": [
    "Do tej pory używaliśmy różnych funkcji oraz metod klas Pythona, przykładowo:\n",
    "* `print('text')`\n",
    "* `list.append()`\n",
    "* `list.count(element)`\n",
    "* `dict.pop(element)`\n",
    "\n",
    "Do metod przejdziemy przy okazji omawiania OOP, teraz zdefiuniujmy funkcję.\n",
    "Funkcję definiujemy używając słowa kluczowego `def` nazwy funkcji oraz listy parametrów (może być pusta), po której następuje znak dwukropka `:`"
   ]
  },
  {
   "cell_type": "code",
   "execution_count": 2,
   "id": "24d625bd",
   "metadata": {},
   "outputs": [],
   "source": [
    "def hello_w():\n",
    "    print (\"Hello world!\")\n",
    "    \n",
    "def my_func(name):\n",
    "    print (\"Hello \" + name)"
   ]
  },
  {
   "cell_type": "markdown",
   "id": "aec61b86",
   "metadata": {},
   "source": [
    "wywołanie:"
   ]
  },
  {
   "cell_type": "code",
   "execution_count": 3,
   "id": "2f8ed960",
   "metadata": {},
   "outputs": [
    {
     "name": "stdout",
     "output_type": "stream",
     "text": [
      "Hello world!\n"
     ]
    }
   ],
   "source": [
    "hello_w()"
   ]
  },
  {
   "cell_type": "code",
   "execution_count": 4,
   "id": "6ab50bf8",
   "metadata": {},
   "outputs": [
    {
     "ename": "TypeError",
     "evalue": "my_func() missing 1 required positional argument: 'name'",
     "output_type": "error",
     "traceback": [
      "\u001b[0;31m---------------------------------------------------------------------------\u001b[0m",
      "\u001b[0;31mTypeError\u001b[0m                                 Traceback (most recent call last)",
      "\u001b[0;32m<ipython-input-4-db3ada79940f>\u001b[0m in \u001b[0;36m<module>\u001b[0;34m\u001b[0m\n\u001b[0;32m----> 1\u001b[0;31m \u001b[0mmy_func\u001b[0m\u001b[0;34m(\u001b[0m\u001b[0;34m)\u001b[0m\u001b[0;34m\u001b[0m\u001b[0;34m\u001b[0m\u001b[0m\n\u001b[0m",
      "\u001b[0;31mTypeError\u001b[0m: my_func() missing 1 required positional argument: 'name'"
     ]
    }
   ],
   "source": [
    "my_func()"
   ]
  },
  {
   "cell_type": "markdown",
   "id": "4d479506",
   "metadata": {},
   "source": [
    "Jeśli funkcja przyjmuje parametry, należy je podać w wywołaniu, w powyższym przykładzie brak parametru `name`. Podanie parametru, gdy takiego nie zdefiniowano również skutkuje błędem:"
   ]
  },
  {
   "cell_type": "code",
   "execution_count": 5,
   "id": "3b769937",
   "metadata": {},
   "outputs": [
    {
     "ename": "TypeError",
     "evalue": "hello_w() takes 0 positional arguments but 1 was given",
     "output_type": "error",
     "traceback": [
      "\u001b[0;31m---------------------------------------------------------------------------\u001b[0m",
      "\u001b[0;31mTypeError\u001b[0m                                 Traceback (most recent call last)",
      "\u001b[0;32m<ipython-input-5-342a04a3c1c2>\u001b[0m in \u001b[0;36m<module>\u001b[0;34m\u001b[0m\n\u001b[0;32m----> 1\u001b[0;31m \u001b[0mhello_w\u001b[0m\u001b[0;34m(\u001b[0m\u001b[0;34m\"Heniek\"\u001b[0m\u001b[0;34m)\u001b[0m\u001b[0;34m\u001b[0m\u001b[0;34m\u001b[0m\u001b[0m\n\u001b[0m",
      "\u001b[0;31mTypeError\u001b[0m: hello_w() takes 0 positional arguments but 1 was given"
     ]
    }
   ],
   "source": [
    "hello_w(\"Heniek\")"
   ]
  },
  {
   "cell_type": "markdown",
   "id": "64828af8",
   "metadata": {},
   "source": [
    "# Zwracanie wartości\n",
    "\n",
    "Funkcja która tylko wyświetla informacje na ekranie jest bezużyteczna, najczęściej funkcje coś przeliczają i zwracają wynik. Aby zwrócić wynik należy użyć słowa kluczowego `return`:\n",
    "\n"
   ]
  },
  {
   "cell_type": "code",
   "execution_count": 6,
   "id": "0a289460",
   "metadata": {},
   "outputs": [],
   "source": [
    "def format_person(first_name, last_name):\n",
    "    return {\"First name\": first_name, \"Last name:\": last_name}"
   ]
  },
  {
   "cell_type": "code",
   "execution_count": 10,
   "id": "84574ce1",
   "metadata": {},
   "outputs": [
    {
     "data": {
      "text/plain": [
       "{'First name': 'Ryszard', 'Last name:': 'Ochódzki'}"
      ]
     },
     "execution_count": 10,
     "metadata": {},
     "output_type": "execute_result"
    }
   ],
   "source": [
    "format_person(\"Ryszard\", \"Ochódzki\")"
   ]
  },
  {
   "cell_type": "markdown",
   "id": "e7d0aec6",
   "metadata": {},
   "source": [
    "wartość można podstawić do zmiennej"
   ]
  },
  {
   "cell_type": "code",
   "execution_count": 9,
   "id": "eb6b16f5",
   "metadata": {},
   "outputs": [
    {
     "name": "stdout",
     "output_type": "stream",
     "text": [
      "{'First name': 'Stanisław', 'Last name:': 'Paluch'}\n"
     ]
    }
   ],
   "source": [
    "person_dict = format_person(\"Stanisław\", \"Paluch\")\n",
    "print(person_dict)"
   ]
  },
  {
   "cell_type": "markdown",
   "id": "a7b2de4a",
   "metadata": {},
   "source": [
    "# Funkcja `map`\n",
    "\n",
    "Załóżmy, że chcemy wykonać jakąś funkcję na liście. \n",
    "Przyjmijmy, że mamy listę wartości całkowitych i chcemy policzyć wartości `f(x) = 2*x+1`"
   ]
  },
  {
   "cell_type": "code",
   "execution_count": 29,
   "id": "f4db72d1",
   "metadata": {},
   "outputs": [
    {
     "name": "stdout",
     "output_type": "stream",
     "text": [
      "[0, 1, 2, 3, 4, 5, 6, 7, 8, 9]\n"
     ]
    }
   ],
   "source": [
    "numbers = [i for i in range(10)]\n",
    "print(numbers)"
   ]
  },
  {
   "cell_type": "code",
   "execution_count": 3,
   "id": "407ed1e5",
   "metadata": {},
   "outputs": [
    {
     "name": "stdout",
     "output_type": "stream",
     "text": [
      "[1, 3, 5, 7, 9, 11, 13, 15, 17, 19]\n"
     ]
    }
   ],
   "source": [
    "y = []\n",
    "for x in numbers:\n",
    "    y.append(2*x+1)\n",
    "\n",
    "print(y)"
   ]
  },
  {
   "cell_type": "markdown",
   "id": "9f7ca489",
   "metadata": {},
   "source": [
    "Możemy użyć funkci `map`, która przyjmuje dwa argumenty: funkcję do wykonania i kolekcję: \n",
    "\n",
    "`map(my_func, numbers)`\n",
    "\n",
    "`my_func` musi być zdefiniowana:\n"
   ]
  },
  {
   "cell_type": "code",
   "execution_count": 4,
   "id": "ad1cb6f5",
   "metadata": {},
   "outputs": [
    {
     "name": "stdout",
     "output_type": "stream",
     "text": [
      "<map object at 0x7f913c98ba60>\n"
     ]
    }
   ],
   "source": [
    "def f(x):\n",
    "    return 2*x+1\n",
    "\n",
    "y = map(f, numbers)\n",
    "\n",
    "print(y)"
   ]
  },
  {
   "cell_type": "code",
   "execution_count": 6,
   "id": "3b911f5d",
   "metadata": {},
   "outputs": [
    {
     "name": "stdout",
     "output_type": "stream",
     "text": [
      "[1, 3, 5, 7, 9, 11, 13, 15, 17, 19]\n"
     ]
    }
   ],
   "source": [
    "print(list(y))"
   ]
  },
  {
   "cell_type": "markdown",
   "id": "23a93798",
   "metadata": {},
   "source": [
    "# Funkcja `filter`"
   ]
  },
  {
   "cell_type": "code",
   "execution_count": 18,
   "id": "3e0b6caf",
   "metadata": {},
   "outputs": [
    {
     "data": {
      "image/png": "[encoded data removed]",
      "text/plain": [
       "<Figure size 432x288 with 1 Axes>"
      ]
     },
     "metadata": {
      "needs_background": "light"
     },
     "output_type": "display_data"
    }
   ],
   "source": [
    "import matplotlib.pyplot as plt\n",
    "import numpy as np\n",
    "\n",
    "x = np.arange(0,10,1) # start, stop, step\n",
    "y = np.cos(x)\n",
    "\n",
    "plt.plot(x, y, 'ro-')\n",
    "plt.show()"
   ]
  },
  {
   "cell_type": "code",
   "execution_count": 10,
   "id": "b3f5340b",
   "metadata": {},
   "outputs": [
    {
     "name": "stdout",
     "output_type": "stream",
     "text": [
      "[0, 1, 5, 6, 7]\n"
     ]
    }
   ],
   "source": [
    "from math import cos\n",
    "\n",
    "y = []\n",
    "for x in numbers:\n",
    "    if cos(x) > 0:\n",
    "        y.append(x)\n",
    "\n",
    "print(y)"
   ]
  },
  {
   "cell_type": "code",
   "execution_count": 19,
   "id": "8318b4bc",
   "metadata": {},
   "outputs": [
    {
     "name": "stdout",
     "output_type": "stream",
     "text": [
      "<filter object at 0x7f913e636820>\n"
     ]
    }
   ],
   "source": [
    "def cos_gt_zero(x):\n",
    "    return cos(x) > 0\n",
    "\n",
    "z = filter(cos_gt_zero, numbers)\n",
    "\n",
    "print(z)"
   ]
  },
  {
   "cell_type": "code",
   "execution_count": 20,
   "id": "1dc57c31",
   "metadata": {},
   "outputs": [
    {
     "name": "stdout",
     "output_type": "stream",
     "text": [
      "[0, 1, 5, 6, 7]\n"
     ]
    }
   ],
   "source": [
    "print(list(z))"
   ]
  },
  {
   "cell_type": "markdown",
   "id": "100b2643",
   "metadata": {},
   "source": [
    "### Różnica w funkcji przekazywanej do map i filter\n",
    "\n",
    "`map` i `filter` dla każdego elementu kolekcji podanej w parametrze wywołują funkcę podaną w parametrze, natomiast:\n",
    "\n",
    "* Funkcja przekazywana do `map` *wykonuje operację na danych*, a jej wynik jest wstawiany do wyjściowego obiektu `\n",
    "map`\n",
    "\n",
    "* Funkcja przekazywana do `filter` *zwraca wartość logiczną* i jeśli zwróci `True`, wówczas elemeent kolecji źródłowej znajdzie się w kolekcji wynikowej\n",
    "\n",
    "spróbujmy zamienić funcje przekazywane w parametrze:\n"
   ]
  },
  {
   "cell_type": "code",
   "execution_count": 30,
   "id": "ed3af634",
   "metadata": {},
   "outputs": [
    {
     "name": "stdout",
     "output_type": "stream",
     "text": [
      "[0, 1, 2, 3, 4, 5, 6, 7, 8, 9]\n"
     ]
    }
   ],
   "source": [
    "z = filter(f, numbers)\n",
    "print(list(z))"
   ]
  },
  {
   "cell_type": "code",
   "execution_count": 31,
   "id": "7c4e1e3c",
   "metadata": {},
   "outputs": [
    {
     "name": "stdout",
     "output_type": "stream",
     "text": [
      "0 False True\n",
      "1 True True\n",
      "2 True True\n",
      "3 True True\n",
      "4 True True\n",
      "5 True True\n",
      "6 True True\n",
      "7 True True\n",
      "8 True True\n",
      "9 True True\n"
     ]
    }
   ],
   "source": [
    "for i in numbers:\n",
    "    print(i, bool(i), bool(2*i+1))"
   ]
  },
  {
   "cell_type": "code",
   "execution_count": 32,
   "id": "8886e753",
   "metadata": {},
   "outputs": [
    {
     "name": "stdout",
     "output_type": "stream",
     "text": [
      "[True, True, False, False, False, True, True, True, False, False]\n"
     ]
    }
   ],
   "source": [
    "y = map(cos_gt_zero, numbers)\n",
    "print(list(y))"
   ]
  },
  {
   "cell_type": "markdown",
   "id": "4d6a1dea",
   "metadata": {},
   "source": [
    "### Zagnieżdżanie\n",
    "\n",
    "Często spotyka się sytuację, kiedy trzeba przeliczyć coś na elementach listy, ale tylko tych, które spełniają określone wymagania:"
   ]
  },
  {
   "cell_type": "code",
   "execution_count": 34,
   "id": "84b631d6",
   "metadata": {},
   "outputs": [
    {
     "name": "stdout",
     "output_type": "stream",
     "text": [
      "[1, 3, 11, 13, 15]\n"
     ]
    }
   ],
   "source": [
    "filtered_and_mapped = map(f, filter(cos_gt_zero, numbers))\n",
    "print(list(filtered_and_mapped))                        "
   ]
  },
  {
   "cell_type": "markdown",
   "id": "ce3b2b37",
   "metadata": {},
   "source": [
    "Zagnieżdzenie map w filter (najpierw 2*x+1, potem filtrujemy):"
   ]
  },
  {
   "cell_type": "code",
   "execution_count": 33,
   "id": "5d557163",
   "metadata": {},
   "outputs": [
    {
     "name": "stdout",
     "output_type": "stream",
     "text": [
      "[1, 5, 7, 11, 13, 19]\n"
     ]
    }
   ],
   "source": [
    "mapped_and_filtered = filter(cos_gt_zero, map(f, numbers))\n",
    "print(list(mapped_and_filtered))"
   ]
  },
  {
   "cell_type": "markdown",
   "id": "1706edcd",
   "metadata": {},
   "source": [
    "# Lambda\n",
    "\n",
    "Wyrażenia Lambda pozwalają na tworzenie funkcji \"bezimiennych\". \n",
    "Definiujemy je za pomocą słowa kluczowego `lambda` po którym następuje lista argumentów, dwukropek oraz wyrażenie, które będzie wynikiem:"
   ]
  },
  {
   "cell_type": "code",
   "execution_count": 37,
   "id": "a6fedb64",
   "metadata": {},
   "outputs": [
    {
     "data": {
      "text/plain": [
       "<function __main__.<lambda>(x)>"
      ]
     },
     "execution_count": 37,
     "metadata": {},
     "output_type": "execute_result"
    }
   ],
   "source": [
    "lambda x: x**2"
   ]
  },
  {
   "cell_type": "markdown",
   "id": "2af28b8e",
   "metadata": {},
   "source": [
    "Lambda jest uproszczeniem zapisu z pominięciem nazwy funkcji:\n",
    "\n",
    "```python\n",
    "def square(x):\n",
    "    return x**2\n",
    "```\n",
    "wrzucamy wszystko do jednej linijki:\n",
    "\n",
    "```  python\n",
    "def square(x): return x**2\n",
    "```\n",
    "usuwamy nazwę funkcji:\n",
    "```  python\n",
    "def x: return x**2\n",
    "```\n",
    "usuwamy return:\n",
    "```  python\n",
    "def x: x**2\n",
    "```\n",
    "zamieniamy def na lambda:\n",
    "```  python\n",
    "lambda x: x**2\n",
    "```\n",
    "\n",
    "Aby wywołać funkcję \"bezimienną\" należy wartość wyrażenia lambda podstawić pod zmienną, a następnie użyć zmiennej:"
   ]
  },
  {
   "cell_type": "code",
   "execution_count": 38,
   "id": "78fa3a47",
   "metadata": {},
   "outputs": [
    {
     "data": {
      "text/plain": [
       "36"
      ]
     },
     "execution_count": 38,
     "metadata": {},
     "output_type": "execute_result"
    }
   ],
   "source": [
    "my_lambda_square = lambda x: x**2\n",
    "my_lambda_square(6)"
   ]
  },
  {
   "cell_type": "markdown",
   "id": "1ff2641b",
   "metadata": {},
   "source": [
    "Zdefiniujmy drugą lamdbę, która posłuży nam do filtrowania:"
   ]
  },
  {
   "cell_type": "code",
   "execution_count": 43,
   "id": "78f3b273",
   "metadata": {},
   "outputs": [],
   "source": [
    "is_even = lambda x: x % 2 == 0"
   ]
  },
  {
   "cell_type": "code",
   "execution_count": 44,
   "id": "a71886cb",
   "metadata": {},
   "outputs": [
    {
     "name": "stdout",
     "output_type": "stream",
     "text": [
      "[0, 4, 16, 36, 64]\n"
     ]
    }
   ],
   "source": [
    "numbers = [i for i in range(10)]\n",
    "evens_squared = map(my_lambda_square, filter(is_even, numbers))\n",
    "print(list(evens_squared))"
   ]
  },
  {
   "cell_type": "markdown",
   "id": "b0999bfb",
   "metadata": {},
   "source": [
    "Można pominąć podstawianie wyrażenia lamdba do zmiennej i zapisać wszysko w jednej linijce:\n"
   ]
  },
  {
   "cell_type": "code",
   "execution_count": 45,
   "id": "6e463c9d",
   "metadata": {},
   "outputs": [
    {
     "name": "stdout",
     "output_type": "stream",
     "text": [
      "[0, 4, 16, 36, 64]\n"
     ]
    }
   ],
   "source": [
    "evens_squared_2 = map(lambda x: x**2, filter(lambda x: x % 2 == 0, numbers))\n",
    "print(list(evens_squared_2))"
   ]
  },
  {
   "cell_type": "markdown",
   "id": "7fb3294d",
   "metadata": {},
   "source": [
    "*Przykład:*\n",
    "funkcja sorted:\n",
    "\n",
    "`sorted(iterable, key=key, reverse=reverse)`\n",
    "\n",
    "możemy podać klucz będący funckją. Posortuj poniższą listę po wieku:"
   ]
  },
  {
   "cell_type": "code",
   "execution_count": 48,
   "id": "eb48009f",
   "metadata": {},
   "outputs": [],
   "source": [
    "people = [{'name': 'Grzegorz', 'age': 43}, {'name': 'Ryszard', 'age': 39}, {'name': 'Irena', 'age': 32}]"
   ]
  },
  {
   "cell_type": "code",
   "execution_count": 50,
   "id": "9e29e81a",
   "metadata": {},
   "outputs": [],
   "source": [
    "sorter_people = ?"
   ]
  },
  {
   "cell_type": "code",
   "execution_count": 51,
   "id": "687b7c1b",
   "metadata": {},
   "outputs": [
    {
     "name": "stdout",
     "output_type": "stream",
     "text": [
      "[{'name': 'Irena', 'age': 32}, {'name': 'Ryszard', 'age': 39}, {'name': 'Grzegorz', 'age': 43}]\n"
     ]
    }
   ],
   "source": [
    "print(sorter_people)"
   ]
  },
  {
   "cell_type": "code",
   "execution_count": null,
   "id": "af688e8c",
   "metadata": {},
   "outputs": [],
   "source": []
  }
 ],
 "metadata": {
  "kernelspec": {
   "display_name": "Python 3",
   "language": "python",
   "name": "python3"
  },
  "language_info": {
   "codemirror_mode": {
    "name": "ipython",
    "version": 3
   },
   "file_extension": ".py",
   "mimetype": "text/x-python",
   "name": "python",
   "nbconvert_exporter": "python",
   "pygments_lexer": "ipython3",
   "version": "3.8.8"
  }
 },
 "nbformat": 4,
 "nbformat_minor": 5
}
