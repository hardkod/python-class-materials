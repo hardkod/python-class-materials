{
 "cells": [
  {
   "cell_type": "markdown",
   "id": "e0bdab08",
   "metadata": {},
   "source": [
    "# Kolekcje w Python\n",
    "\n",
    "Kolekcje służą do przechowywania wielu obiektów w jednej strukturze. \n",
    "W Python mamy kila typów kolekcji:\n",
    "* list - lista\n",
    "* dictionary - słownik\n",
    "* set - zbiór \n",
    "* tuple - niezmienialna lista (immutable list)\n",
    "\n",
    "Kolekcja | Kolejność | Możliwa zmiana | Możliwe duplikaty\n",
    "---|---|---|---\n",
    "list | T | T | T\n",
    "dictionary | T | T | N\n",
    "set | N | T | N\n",
    "tuple | T | N | T\n"
   ]
  },
  {
   "cell_type": "markdown",
   "id": "a2f40d19",
   "metadata": {},
   "source": [
    "## List\n",
    "\n",
    "Lista służy do przechowywania wielu wartości w jednej zmiennej.\n",
    "\n",
    "Lista w kodzie reprezentowana jest przez nawiasy kwadratowe `[]`, poniżej inicjalizacja pustej listy."
   ]
  },
  {
   "cell_type": "code",
   "execution_count": 1,
   "id": "f8a8ab2c",
   "metadata": {},
   "outputs": [],
   "source": [
    "empty_list = []"
   ]
  },
  {
   "cell_type": "code",
   "execution_count": 2,
   "id": "63fd8523",
   "metadata": {},
   "outputs": [
    {
     "data": {
      "text/plain": [
       "[]"
      ]
     },
     "execution_count": 2,
     "metadata": {},
     "output_type": "execute_result"
    }
   ],
   "source": [
    "empty_list"
   ]
  },
  {
   "cell_type": "markdown",
   "id": "2d9991d9",
   "metadata": {},
   "source": [
    " W przeciwieństwie do javy czy c++ wartości listy mogą być różnych typów."
   ]
  },
  {
   "cell_type": "code",
   "execution_count": null,
   "id": "b5f44d95",
   "metadata": {},
   "outputs": [],
   "source": [
    "mixed_list = [1, 2.0, \"three\", False]"
   ]
  },
  {
   "cell_type": "code",
   "execution_count": 4,
   "id": "823754d7",
   "metadata": {},
   "outputs": [
    {
     "data": {
      "text/plain": [
       "[1, 2.0, 'three', False]"
      ]
     },
     "execution_count": 4,
     "metadata": {},
     "output_type": "execute_result"
    }
   ],
   "source": [
    "mixed_list"
   ]
  },
  {
   "cell_type": "markdown",
   "id": "dfabbec7",
   "metadata": {},
   "source": [
    "## Operacje na listach\n",
    "\n",
    "## Dodawanie elementów\n",
    "\n",
    "Dodawać elementy można na kilka sposobów:\n",
    "\n",
    "* metoda `append` w klasie list: \n",
    "metoda przyjmuje jeden argument, którym jest obiekt do dodania do listy; obiekt zostanie dodany na końcu"
   ]
  },
  {
   "cell_type": "code",
   "execution_count": 13,
   "id": "892a5ee3",
   "metadata": {},
   "outputs": [],
   "source": [
    "mixed_list.append(\"I was appended!\")"
   ]
  },
  {
   "cell_type": "code",
   "execution_count": 14,
   "id": "3338c726",
   "metadata": {},
   "outputs": [
    {
     "data": {
      "text/plain": [
       "[1, 2.0, 'three', False, 'I was appended!']"
      ]
     },
     "execution_count": 14,
     "metadata": {},
     "output_type": "execute_result"
    }
   ],
   "source": [
    "mixed_list"
   ]
  },
  {
   "cell_type": "markdown",
   "id": "3692b9b4",
   "metadata": {},
   "source": [
    "* metoda `insert` klasy list:\n",
    "metoda przyjmujedwa argumenty, pierwszy to pozycja na której obiekt ma zostać wstawiony, druga to obiekt do wstawienia; elementy listy od podanego indeksu do konca listy zostają przesunięte w prawo:"
   ]
  },
  {
   "cell_type": "code",
   "execution_count": 15,
   "id": "c98c7da6",
   "metadata": {},
   "outputs": [],
   "source": [
    "mixed_list.insert(2, \"two and a half?\")"
   ]
  },
  {
   "cell_type": "code",
   "execution_count": 16,
   "id": "8bf0821b",
   "metadata": {},
   "outputs": [
    {
     "data": {
      "text/plain": [
       "[1, 2.0, 'two and a half?', 'three', False, 'I was appended!']"
      ]
     },
     "execution_count": 16,
     "metadata": {},
     "output_type": "execute_result"
    }
   ],
   "source": [
    "mixed_list"
   ]
  },
  {
   "cell_type": "markdown",
   "id": "177589b3",
   "metadata": {},
   "source": [
    "* operacja dodawania: `lista + lista`: uwaga! operacja nie zmienia oyginalnego obiektu w przeciwieństwie do w/w metod:\n"
   ]
  },
  {
   "cell_type": "code",
   "execution_count": 18,
   "id": "bb8ee0e3",
   "metadata": {},
   "outputs": [
    {
     "data": {
      "text/plain": [
       "[1,\n",
       " 2.0,\n",
       " 'two and a half?',\n",
       " 'three',\n",
       " False,\n",
       " 'I was appended!',\n",
       " \"I won't be here\"]"
      ]
     },
     "execution_count": 18,
     "metadata": {},
     "output_type": "execute_result"
    }
   ],
   "source": [
    "mixed_list + [\"I won't be here\"]"
   ]
  },
  {
   "cell_type": "markdown",
   "id": "e21dcf3e",
   "metadata": {},
   "source": [
    "sprawdźmy, czy mamy nowy element na liście:\n"
   ]
  },
  {
   "cell_type": "code",
   "execution_count": 19,
   "id": "f761060a",
   "metadata": {},
   "outputs": [
    {
     "data": {
      "text/plain": [
       "[1, 2.0, 'two and a half?', 'three', False, 'I was appended!']"
      ]
     },
     "execution_count": 19,
     "metadata": {},
     "output_type": "execute_result"
    }
   ],
   "source": [
    "mixed_list"
   ]
  },
  {
   "cell_type": "markdown",
   "id": "d78b4822",
   "metadata": {},
   "source": [
    "Żeby utrwalić zmianę należy wynik operacji przypisać z powrotem do zmiennej:"
   ]
  },
  {
   "cell_type": "code",
   "execution_count": 21,
   "id": "e2bd59aa",
   "metadata": {},
   "outputs": [],
   "source": [
    "mixed_list = mixed_list + ['I was added']"
   ]
  },
  {
   "cell_type": "code",
   "execution_count": 22,
   "id": "0db70b12",
   "metadata": {},
   "outputs": [
    {
     "data": {
      "text/plain": [
       "[1, 2.0, 'two and a half?', 'three', False, 'I was appended!', 'I was added']"
      ]
     },
     "execution_count": 22,
     "metadata": {},
     "output_type": "execute_result"
    }
   ],
   "source": [
    "mixed_list"
   ]
  },
  {
   "cell_type": "markdown",
   "id": "66b73921",
   "metadata": {},
   "source": [
    "### Dodawanie list\n",
    "\n",
    "Jak widać na przykładzie powyżej, można dodawać do siebie listy. Powyżej na drugiej liście był tylko jeden element, ale może być ich więcej:"
   ]
  },
  {
   "cell_type": "code",
   "execution_count": 24,
   "id": "43e8678b",
   "metadata": {},
   "outputs": [],
   "source": [
    "mixed_list = mixed_list + [8, 9.0, \"ten\"]"
   ]
  },
  {
   "cell_type": "code",
   "execution_count": 27,
   "id": "c920adb8",
   "metadata": {},
   "outputs": [
    {
     "data": {
      "text/plain": [
       "[1,\n",
       " 2.0,\n",
       " 'two and a half?',\n",
       " 'three',\n",
       " False,\n",
       " 'I was appended!',\n",
       " 'I was added',\n",
       " 8,\n",
       " 9.0,\n",
       " 'ten']"
      ]
     },
     "execution_count": 27,
     "metadata": {},
     "output_type": "execute_result"
    }
   ],
   "source": [
    "mixed_list"
   ]
  },
  {
   "cell_type": "markdown",
   "id": "0acb3253",
   "metadata": {},
   "source": [
    "Pytanie, czy możemy dodać drugą listę do pierwszej używają w/w metod? \n",
    "Możemy, ale cała lista zostanie dodana jako pojedynczy element:\n",
    "    "
   ]
  },
  {
   "cell_type": "code",
   "execution_count": 28,
   "id": "e020c0e6",
   "metadata": {},
   "outputs": [],
   "source": [
    "mixed_list.append([\"my\", \"new\", \"list\"])"
   ]
  },
  {
   "cell_type": "code",
   "execution_count": 33,
   "id": "c185396b",
   "metadata": {},
   "outputs": [
    {
     "data": {
      "text/plain": [
       "[1,\n",
       " 2.0,\n",
       " 'two and a half?',\n",
       " 'three',\n",
       " False,\n",
       " 'I was appended!',\n",
       " 'I was added',\n",
       " 8,\n",
       " 9.0,\n",
       " 'ten',\n",
       " ['my', 'new', 'list'],\n",
       " 'I',\n",
       " 'was',\n",
       " 'extended']"
      ]
     },
     "execution_count": 33,
     "metadata": {},
     "output_type": "execute_result"
    }
   ],
   "source": [
    "mixed_list"
   ]
  },
  {
   "cell_type": "markdown",
   "id": "655ba17e",
   "metadata": {},
   "source": [
    "Aby poprawnie dodać wszystkie elementy listy do drugiej używamu metody `extend`:"
   ]
  },
  {
   "cell_type": "code",
   "execution_count": 31,
   "id": "a676ec66",
   "metadata": {},
   "outputs": [],
   "source": [
    "mixed_list.extend([\"I\", \"was\", \"extended\"])"
   ]
  },
  {
   "cell_type": "code",
   "execution_count": 4,
   "id": "0c8b85f2",
   "metadata": {},
   "outputs": [],
   "source": [
    "list1 = [1, 2, 3]\n",
    "list2 = [4, 5, 6]\n",
    "list1.extend(list2)"
   ]
  },
  {
   "cell_type": "code",
   "execution_count": 5,
   "id": "e6ea023a",
   "metadata": {},
   "outputs": [
    {
     "name": "stdout",
     "output_type": "stream",
     "text": [
      "[1, 2, 3, 4, 5, 6]\n"
     ]
    }
   ],
   "source": [
    "print(list1)"
   ]
  },
  {
   "cell_type": "code",
   "execution_count": null,
   "id": "baee3a15",
   "metadata": {},
   "outputs": [],
   "source": []
  },
  {
   "cell_type": "code",
   "execution_count": 32,
   "id": "cc65c2ba",
   "metadata": {},
   "outputs": [
    {
     "data": {
      "text/plain": [
       "[1,\n",
       " 2.0,\n",
       " 'two and a half?',\n",
       " 'three',\n",
       " False,\n",
       " 'I was appended!',\n",
       " 'I was added',\n",
       " 8,\n",
       " 9.0,\n",
       " 'ten',\n",
       " ['my', 'new', 'list'],\n",
       " 'I',\n",
       " 'was',\n",
       " 'extended']"
      ]
     },
     "execution_count": 32,
     "metadata": {},
     "output_type": "execute_result"
    }
   ],
   "source": [
    "mixed_list"
   ]
  },
  {
   "cell_type": "markdown",
   "id": "9c07a4d1",
   "metadata": {},
   "source": [
    "### Usuwanie elementów listy\n",
    "\n",
    "Klasa `list` ma dwie metody do usuwania elementów:\n",
    "* `pop` - przyjmuje (opcjonalnie) indeks elementu do usunięcia, zwraca element; jeśli nie podano indeksu zwraca ostatni element (index = -1)\n",
    "* `remove` - przyjmuje obiekt do usunięcia, usuwa pierwsze wystąpienie, nie zwraca wartości; jesli obiektu nie ma na liście rzucany jest wyjątek `ValueError`\n",
    "\n",
    "Istnieje też operacja `del` po której podajemy zakres do usunięcia."
   ]
  },
  {
   "cell_type": "code",
   "execution_count": 34,
   "id": "08e856a1",
   "metadata": {},
   "outputs": [],
   "source": [
    "# pobieramy pierwszy element\n",
    "element = mixed_list.pop(0) "
   ]
  },
  {
   "cell_type": "code",
   "execution_count": 35,
   "id": "a7179876",
   "metadata": {},
   "outputs": [
    {
     "name": "stdout",
     "output_type": "stream",
     "text": [
      "element == 1, lista == [2.0, 'two and a half?', 'three', False, 'I was appended!', 'I was added', 8, 9.0, 'ten', ['my', 'new', 'list'], 'I', 'was', 'extended']\n"
     ]
    }
   ],
   "source": [
    "print(f\"element == {element}, lista == {mixed_list}\")"
   ]
  },
  {
   "cell_type": "code",
   "execution_count": 36,
   "id": "8d2609a8",
   "metadata": {},
   "outputs": [],
   "source": [
    "# usuwamy element o wartości 'three', funkcja nie zwróci wartości\n",
    "element = mixed_list.remove('three') "
   ]
  },
  {
   "cell_type": "code",
   "execution_count": 37,
   "id": "d3a182de",
   "metadata": {},
   "outputs": [
    {
     "name": "stdout",
     "output_type": "stream",
     "text": [
      "element == None, lista == [2.0, 'two and a half?', False, 'I was appended!', 'I was added', 8, 9.0, 'ten', ['my', 'new', 'list'], 'I', 'was', 'extended']\n"
     ]
    }
   ],
   "source": [
    "print(f\"element == {element}, lista == {mixed_list}\")"
   ]
  },
  {
   "cell_type": "code",
   "execution_count": 38,
   "id": "daf99087",
   "metadata": {},
   "outputs": [
    {
     "ename": "ValueError",
     "evalue": "list.remove(x): x not in list",
     "output_type": "error",
     "traceback": [
      "\u001b[0;31m---------------------------------------------------------------------------\u001b[0m",
      "\u001b[0;31mValueError\u001b[0m                                Traceback (most recent call last)",
      "\u001b[0;32m<ipython-input-38-bd1c5eb8e82e>\u001b[0m in \u001b[0;36m<module>\u001b[0;34m\u001b[0m\n\u001b[1;32m      1\u001b[0m \u001b[0;31m# spróbujmy usunąć nieistniejący element:\u001b[0m\u001b[0;34m\u001b[0m\u001b[0;34m\u001b[0m\u001b[0;34m\u001b[0m\u001b[0m\n\u001b[0;32m----> 2\u001b[0;31m \u001b[0melement\u001b[0m \u001b[0;34m=\u001b[0m \u001b[0mmixed_list\u001b[0m\u001b[0;34m.\u001b[0m\u001b[0mremove\u001b[0m\u001b[0;34m(\u001b[0m\u001b[0;34m'three'\u001b[0m\u001b[0;34m)\u001b[0m\u001b[0;34m\u001b[0m\u001b[0;34m\u001b[0m\u001b[0m\n\u001b[0m",
      "\u001b[0;31mValueError\u001b[0m: list.remove(x): x not in list"
     ]
    }
   ],
   "source": [
    "# spróbujmy usunąć nieistniejący element:\n",
    "element = mixed_list.remove('three') "
   ]
  },
  {
   "cell_type": "code",
   "execution_count": 39,
   "id": "c9dd5bb6",
   "metadata": {},
   "outputs": [],
   "source": [
    "# usuwamy elementy od 10 do końca\n",
    "del mixed_list[10:]"
   ]
  },
  {
   "cell_type": "code",
   "execution_count": 40,
   "id": "6289cebf",
   "metadata": {},
   "outputs": [
    {
     "data": {
      "text/plain": [
       "[2.0,\n",
       " 'two and a half?',\n",
       " False,\n",
       " 'I was appended!',\n",
       " 'I was added',\n",
       " 8,\n",
       " 9.0,\n",
       " 'ten',\n",
       " ['my', 'new', 'list'],\n",
       " 'I']"
      ]
     },
     "execution_count": 40,
     "metadata": {},
     "output_type": "execute_result"
    }
   ],
   "source": [
    "mixed_list"
   ]
  },
  {
   "cell_type": "code",
   "execution_count": 41,
   "id": "1bfea859",
   "metadata": {},
   "outputs": [],
   "source": [
    "# jeśli podany zakres jest niepoprawny nic się nie dzieje\n",
    "del mixed_list[12:]"
   ]
  },
  {
   "cell_type": "code",
   "execution_count": 42,
   "id": "91b59759",
   "metadata": {},
   "outputs": [
    {
     "data": {
      "text/plain": [
       "[2.0,\n",
       " 'two and a half?',\n",
       " False,\n",
       " 'I was appended!',\n",
       " 'I was added',\n",
       " 8,\n",
       " 9.0,\n",
       " 'ten',\n",
       " ['my', 'new', 'list'],\n",
       " 'I']"
      ]
     },
     "execution_count": 42,
     "metadata": {},
     "output_type": "execute_result"
    }
   ],
   "source": [
    "mixed_list"
   ]
  },
  {
   "cell_type": "markdown",
   "id": "67274122",
   "metadata": {},
   "source": [
    "### Inne metody klasy `list`\n",
    "\n",
    "* `clear()` - usuwa wszystkie elementy listy\n",
    "* `count(x)` - zwraca liczbę wystąpień x na liście\n",
    "* `sort()` - sortuje elementy in-place (tzn. sortuje listę na której wywoływana jest metoda), nie zwraca wartości, można podać argument `reverse=True`\n",
    "* `reverse()` - odwraca listę in-place\n",
    "* `copy()` - zwraca kopię listy\n",
    "\n",
    "Tutaj: [pełna lista metod ](https://docs.python.org/3/tutorial/datastructures.html#more-on-lists)"
   ]
  },
  {
   "cell_type": "code",
   "execution_count": 43,
   "id": "63024f09",
   "metadata": {},
   "outputs": [
    {
     "data": {
      "text/plain": [
       "2"
      ]
     },
     "execution_count": 43,
     "metadata": {},
     "output_type": "execute_result"
    }
   ],
   "source": [
    "[1,2,3,1,3,2,5].count(1)"
   ]
  },
  {
   "cell_type": "code",
   "execution_count": 44,
   "id": "1a310dc2",
   "metadata": {},
   "outputs": [
    {
     "name": "stdout",
     "output_type": "stream",
     "text": [
      "None\n"
     ]
    }
   ],
   "source": [
    "# sort nic nie zwróci, trzeba użyć zmiennej\n",
    "print([1,2,3,1,3,2,5].sort())"
   ]
  },
  {
   "cell_type": "code",
   "execution_count": 45,
   "id": "cfb9d0f9",
   "metadata": {},
   "outputs": [
    {
     "name": "stdout",
     "output_type": "stream",
     "text": [
      "[5, 3, 3, 2, 2, 1, 1]\n"
     ]
    }
   ],
   "source": [
    "to_be_sorted = [1,2,3,1,3,2,5]\n",
    "to_be_sorted.sort(reverse=True)\n",
    "print(to_be_sorted)"
   ]
  },
  {
   "cell_type": "code",
   "execution_count": 46,
   "id": "343e5ea2",
   "metadata": {},
   "outputs": [
    {
     "name": "stdout",
     "output_type": "stream",
     "text": [
      "[1, 1, 2, 2, 3, 3, 5]\n"
     ]
    }
   ],
   "source": [
    "to_be_sorted.reverse()\n",
    "print(to_be_sorted)"
   ]
  },
  {
   "cell_type": "markdown",
   "id": "74ef93b9",
   "metadata": {},
   "source": [
    "Aby losowo zmienić kolejność elementów na liście (\"przetasować\") używamy funkcji:\n",
    "* `random.shuffle(lista)` - zmienia kolejność elementów na liście podanej w argumecie wywołania, nie zwraca wyniku\n",
    "* `random.sample(lista, dlugosc)` - zwraca losową próbkę z listy o podanej długości, nie zmienia listy podanej w argumencie"
   ]
  },
  {
   "cell_type": "code",
   "execution_count": 6,
   "id": "ba7eeb4e",
   "metadata": {},
   "outputs": [
    {
     "name": "stdout",
     "output_type": "stream",
     "text": [
      "None\n",
      "[6, 4, 5, 3, 2, 1]\n",
      "[6, 5, 2, 4, 1, 3]\n",
      "[1, 2, 3, 4, 5, 6]\n"
     ]
    }
   ],
   "source": [
    "import random\n",
    "lst = [1,2,3,4,5,6]\n",
    "print(random.shuffle(lst))\n",
    "print(lst)\n",
    "lst = [1,2,3,4,5,6]\n",
    "print(random.sample(lst, len(lst)))\n",
    "print(lst)"
   ]
  },
  {
   "cell_type": "markdown",
   "id": "50737e1f",
   "metadata": {},
   "source": [
    "### inne operacje na listach\n",
    "\n",
    "* `len(list)` - zwraca długość listy\n",
    "* `enumerate(list)` - zwraca obiekt enumerate - tj. pary (indeks, wartość)\n",
    "* `zip(list_1, list_2, .. list_n, strict=False)` - zwraca kombinacje wartości z każdej listy: (list_1[0], list_2[0], .., list_n[0]) dopóki każda z list ma wartości"
   ]
  },
  {
   "cell_type": "code",
   "execution_count": 5,
   "id": "ed5431f5",
   "metadata": {},
   "outputs": [
    {
     "name": "stdout",
     "output_type": "stream",
     "text": [
      "3\n"
     ]
    }
   ],
   "source": [
    "print(len([1,2,3]))"
   ]
  },
  {
   "cell_type": "code",
   "execution_count": 48,
   "id": "8b499740",
   "metadata": {},
   "outputs": [
    {
     "name": "stdout",
     "output_type": "stream",
     "text": [
      "[(0, 'eins'), (1, 'zwei'), (2, 'drei')]\n"
     ]
    }
   ],
   "source": [
    "print(list(enumerate(['eins', 'zwei', 'drei'])))"
   ]
  },
  {
   "cell_type": "code",
   "execution_count": null,
   "id": "4192ee6a",
   "metadata": {},
   "outputs": [],
   "source": []
  },
  {
   "cell_type": "code",
   "execution_count": 4,
   "id": "52c0b160",
   "metadata": {},
   "outputs": [
    {
     "name": "stdout",
     "output_type": "stream",
     "text": [
      "[('Alice', 'cats'), ('Bob', 'dogs'), ('Charlie', 'python')]\n"
     ]
    }
   ],
   "source": [
    "names = ['Alice', 'Bob', 'Charlie', 'David']\n",
    "pets = ['cats', 'dogs', 'python']\n",
    "print(list(zip(names, pets)))"
   ]
  },
  {
   "cell_type": "markdown",
   "id": "0ade7a11",
   "metadata": {},
   "source": [
    "## Tuple\n",
    "Tuple to kolekcja zachowująca kolejność, w której mogą pojawić się duplikaty, natomiast nie ona niezmienna (immutable). Oznacza to, że nie można dodawać, usuwać ani modyfikować składowych tuple'a.\n",
    "\n"
   ]
  },
  {
   "cell_type": "code",
   "execution_count": 2,
   "id": "e077537e",
   "metadata": {},
   "outputs": [
    {
     "name": "stdout",
     "output_type": "stream",
     "text": [
      "3\n",
      "(2, 3)\n"
     ]
    }
   ],
   "source": [
    "my_tuple = (1, 2, 3, 4)\n",
    "print(my_tuple[2])\n",
    "print(my_tuple[1:3])"
   ]
  },
  {
   "cell_type": "markdown",
   "id": "c5115f44",
   "metadata": {},
   "source": [
    "Przydatną funcjonalnością jest tzw. tuple unpacking, tj rozpakownanie tuple'a do zmiennych:"
   ]
  },
  {
   "cell_type": "code",
   "execution_count": 3,
   "id": "9513778b",
   "metadata": {},
   "outputs": [
    {
     "name": "stdout",
     "output_type": "stream",
     "text": [
      "My coordinates are:  (10, -3)\n"
     ]
    }
   ],
   "source": [
    "coords = (10, -3)\n",
    "(x, y) = coords\n",
    "print(f\"My coordinates are:  ({x}, {y})\")"
   ]
  },
  {
   "cell_type": "markdown",
   "id": "9da11929",
   "metadata": {},
   "source": [
    "## Set\n",
    "\n",
    "Obiekt set służy do przchowywania zbiorów, tzn. jest kolekcją, w której element może wystąpić conajwyżej raz.\n",
    "Kolejność nie jest zachowana, można modyfikować obiekt, tzn. dodawać i usuwać elementy.\n",
    "\n",
    "Obiekt set zapisujemy używając nawiasów \"wąsatych\" `{}`\n"
   ]
  },
  {
   "cell_type": "code",
   "execution_count": 1,
   "id": "97f90737",
   "metadata": {},
   "outputs": [],
   "source": [
    "my_empty_set = {}"
   ]
  },
  {
   "cell_type": "code",
   "execution_count": 2,
   "id": "cf33574a",
   "metadata": {},
   "outputs": [
    {
     "name": "stdout",
     "output_type": "stream",
     "text": [
      "{} is of type <class 'dict'>\n"
     ]
    }
   ],
   "source": [
    "print(f\"{my_empty_set} is of type {type(my_empty_set)}\")"
   ]
  },
  {
   "cell_type": "code",
   "execution_count": 3,
   "id": "3dd46fc8",
   "metadata": {},
   "outputs": [],
   "source": [
    "odds_set = {1,3,7}"
   ]
  },
  {
   "cell_type": "code",
   "execution_count": 4,
   "id": "91fefe9a",
   "metadata": {},
   "outputs": [
    {
     "name": "stdout",
     "output_type": "stream",
     "text": [
      "{1, 3, 7} is of type <class 'set'>\n"
     ]
    }
   ],
   "source": [
    "print(f\"{odds_set} is of type {type(odds_set)}\")"
   ]
  },
  {
   "cell_type": "markdown",
   "id": "0d85f829",
   "metadata": {},
   "source": [
    "Elementami zbioru mogą być obiekty różnych typów:"
   ]
  },
  {
   "cell_type": "code",
   "execution_count": 6,
   "id": "83be570c",
   "metadata": {},
   "outputs": [],
   "source": [
    "pi_set = {3, \"pi\", 3.14}"
   ]
  },
  {
   "cell_type": "code",
   "execution_count": 7,
   "id": "7b5e3af5",
   "metadata": {},
   "outputs": [
    {
     "data": {
      "text/plain": [
       "{3, 3.14, 'pi'}"
      ]
     },
     "execution_count": 7,
     "metadata": {},
     "output_type": "execute_result"
    }
   ],
   "source": [
    "pi_set"
   ]
  },
  {
   "cell_type": "markdown",
   "id": "807dccd0",
   "metadata": {},
   "source": [
    "### Operacje na setach\n",
    "\n",
    "Dodawanie i usuwanie elementów:\n",
    "\n",
    "* `set.add(elem)` - dodaje element, operacja jest idempotentna\n",
    "* `set.remove(elem)` - usuwa element, jeśli brak rzuca `KeyError`, nie zrwaca wartości\n",
    "* `set.pop()` - zwraca losowy element zbioru (brak sortowania!) i usuwa element ze zbioru\n",
    "* `set.update(another_set)` - dodaje elementy `another_set` do zbioru\n",
    "\n",
    "Logika zbiorów:\n",
    "\n",
    "* `A.union(B)` - zwraca sumę zbiorów `A ∪ B` \n",
    "* `A.interset(B)` - zwraca przecięcie zbiorów `A ∩ B`\n",
    "* `A.diffrence(B)` - zwraca różnicę zbiorów `A \\ B`\n",
    "* `A.issubset(B)` - zwraca True jeśli A jest podzzbiorem B\n",
    "* `A.issuperset(B)` - zwraca True jeśli A zawiera zbiór B\n"
   ]
  },
  {
   "cell_type": "code",
   "execution_count": 9,
   "id": "2318cf55",
   "metadata": {},
   "outputs": [],
   "source": [
    "odds_set.add(5)"
   ]
  },
  {
   "cell_type": "code",
   "execution_count": 10,
   "id": "e6a4c84f",
   "metadata": {},
   "outputs": [
    {
     "data": {
      "text/plain": [
       "{1, 3, 5, 7}"
      ]
     },
     "execution_count": 10,
     "metadata": {},
     "output_type": "execute_result"
    }
   ],
   "source": [
    "odds_set"
   ]
  },
  {
   "cell_type": "code",
   "execution_count": 11,
   "id": "c74d5e1f",
   "metadata": {},
   "outputs": [],
   "source": [
    "odds_set.add(5)"
   ]
  },
  {
   "cell_type": "code",
   "execution_count": 12,
   "id": "86342000",
   "metadata": {},
   "outputs": [
    {
     "data": {
      "text/plain": [
       "{1, 3, 5, 7}"
      ]
     },
     "execution_count": 12,
     "metadata": {},
     "output_type": "execute_result"
    }
   ],
   "source": [
    "odds_set"
   ]
  },
  {
   "cell_type": "code",
   "execution_count": 13,
   "id": "34f8fe06",
   "metadata": {},
   "outputs": [],
   "source": [
    "odds_set.remove(7)"
   ]
  },
  {
   "cell_type": "code",
   "execution_count": 15,
   "id": "8939c4de",
   "metadata": {},
   "outputs": [
    {
     "data": {
      "text/plain": [
       "{1, 3, 5}"
      ]
     },
     "execution_count": 15,
     "metadata": {},
     "output_type": "execute_result"
    }
   ],
   "source": [
    "odds_set"
   ]
  },
  {
   "cell_type": "code",
   "execution_count": 16,
   "id": "548c6210",
   "metadata": {},
   "outputs": [
    {
     "ename": "KeyError",
     "evalue": "7",
     "output_type": "error",
     "traceback": [
      "\u001b[0;31m---------------------------------------------------------------------------\u001b[0m",
      "\u001b[0;31mKeyError\u001b[0m                                  Traceback (most recent call last)",
      "\u001b[0;32m<ipython-input-16-bbca4a2b9612>\u001b[0m in \u001b[0;36m<module>\u001b[0;34m\u001b[0m\n\u001b[0;32m----> 1\u001b[0;31m \u001b[0modds_set\u001b[0m\u001b[0;34m.\u001b[0m\u001b[0mremove\u001b[0m\u001b[0;34m(\u001b[0m\u001b[0;36m7\u001b[0m\u001b[0;34m)\u001b[0m\u001b[0;34m\u001b[0m\u001b[0;34m\u001b[0m\u001b[0m\n\u001b[0m",
      "\u001b[0;31mKeyError\u001b[0m: 7"
     ]
    }
   ],
   "source": [
    "odds_set.remove(7)"
   ]
  },
  {
   "cell_type": "code",
   "execution_count": 17,
   "id": "fdf0b7c7",
   "metadata": {},
   "outputs": [],
   "source": [
    "elem = odds_set.pop()"
   ]
  },
  {
   "cell_type": "code",
   "execution_count": 18,
   "id": "0b6a6ef1",
   "metadata": {},
   "outputs": [
    {
     "name": "stdout",
     "output_type": "stream",
     "text": [
      "elem = 1, set =  {3, 5}\n"
     ]
    }
   ],
   "source": [
    "print(f\"elem = {elem}, set =  {odds_set}\")"
   ]
  },
  {
   "cell_type": "markdown",
   "id": "577305bc",
   "metadata": {},
   "source": [
    "### Operatory działające na zbiorach\n",
    "\n",
    "Zbiory można dodawać, przecinać itd używając operatorów:\n",
    "\n",
    "Sprawdzenia logiczne:\n",
    "* `key in A` - czy zbiór A zawiera element key\n",
    "* `key not in A` -  czy zbiór A nie zawiera element key\n",
    "* `A == B` - czy zniory są  równe\n",
    "* `A != B` - czy zbiory są rózne\n",
    "* `A <= B` - czy A jest podzbioreem  B  \n",
    "* `A > B` -  czy B jest podzbiorem A\n",
    "\n",
    "Operacje:\n",
    "* `A | B` - zwraca sumę zbiorów `A ∪ B`\n",
    "* `A & B` - zwraca przecięcie zbiorów `A ∩ B`\n",
    "* `A – B` - zwraca różnicę zbiorów `A \\ B`\n",
    "* `A ˆ B` - zwraca alternatywę rozłączną (xor) zbiorów, tj.  elementy które są w  dokładnie jednym  ze zbiorów\n",
    "\n",
    "Operacje nie modyfikują zbiorów, na których operują, w przeciwieństwie do metod `union()`, `intersect()`. Aby zachować wynik operacji, naley go podstawić pod zmienną:\n",
    "`C = A | B`\n",
    "lub jeśli chcemy nadpisać jeden ze zbiorów:\n",
    "`A = A|B`\n",
    "lub notacja skrócona:\n",
    "`A |= B` co jest równowane z `A.union(B)`"
   ]
  },
  {
   "cell_type": "code",
   "execution_count": 1,
   "id": "efc728d9",
   "metadata": {},
   "outputs": [
    {
     "name": "stdout",
     "output_type": "stream",
     "text": [
      "set_1 =  {1, 2, 3, 4, 5, 6}\n",
      "set_2 =  {5, 6, 7, 8, 9, 10}\n",
      "Suma zbiorów set_1 i set_2 = {1, 2, 3, 4, 5, 6, 7, 8, 9, 10} \n",
      "Przecięcie zbiorów set_1 i set_2 = {5, 6} \n",
      "Róznica zbiorów set_1 i set_2 = {1, 2, 3, 4} \n",
      "xor zbiorów set_1 i set_2 = {1, 2, 3, 4, 7, 8, 9, 10} \n"
     ]
    }
   ],
   "source": [
    "set_1 = {1, 2,3, 4, 5, 6}\n",
    "set_2 = {5, 6, 7, 8, 9, 10}\n",
    "print(\"set_1 = \", set_1) \n",
    "print(\"set_2 = \", set_2) \n",
    "\n",
    "print(f\"Suma zbiorów set_1 i set_2 = {set_1| set_2} \") \n",
    "print(f\"Przecięcie zbiorów set_1 i set_2 = {set_1 & set_2} \")\n",
    "print(f\"Róznica zbiorów set_1 i set_2 = {set_1- set_2} \")\n",
    "print(f\"xor zbiorów set_1 i set_2 = {set_1 ^ set_2} \")"
   ]
  },
  {
   "cell_type": "markdown",
   "id": "512b236d",
   "metadata": {},
   "source": [
    "## Dictionary\n",
    "\n",
    "Dictionary jest strukturą przechowującą wiele elementów, w której zamiast indeksów używamy kluczy, tzn. każdy element zzamiast pozycji w koklekcji ma unikalny identyfikator zwany kluczem, każdy element słownika jest więc parą `klucz:wartość`. Wartości mogą być dowo\n",
    "Dictionary zapisywany jest podobnie jak set w nawiasach wąsatych `{}`."
   ]
  },
  {
   "cell_type": "code",
   "execution_count": 1,
   "id": "a0a0555f",
   "metadata": {},
   "outputs": [
    {
     "name": "stdout",
     "output_type": "stream",
     "text": [
      "{} is of typy <class 'dict'>\n"
     ]
    }
   ],
   "source": [
    "empty_dict = {}\n",
    "print(f\"{empty_dict} is of typy {type(empty_dict)}\")"
   ]
  },
  {
   "cell_type": "code",
   "execution_count": 3,
   "id": "809734db",
   "metadata": {},
   "outputs": [
    {
     "name": "stdout",
     "output_type": "stream",
     "text": [
      "{'pet': 'dog', 'food': 'pizza', 'number': 3.14}\n"
     ]
    }
   ],
   "source": [
    "favourites = {'pet': 'dog', 'food': 'pizza', 'number': 3.14}\n",
    "print(favourites)"
   ]
  },
  {
   "cell_type": "code",
   "execution_count": 10,
   "id": "8a93be54",
   "metadata": {},
   "outputs": [
    {
     "name": "stdout",
     "output_type": "stream",
     "text": [
      "{1: 2, 3: 4, 3.14: 'pi', 'e': 2.71828}\n"
     ]
    }
   ],
   "source": [
    "another_dict = {1:2, 3:4, 3.14:'pi', 'e': 2.71828}\n",
    "print(another_dict)"
   ]
  },
  {
   "cell_type": "markdown",
   "id": "0383ccc9",
   "metadata": {},
   "source": [
    "### Operacje na słownikach\n",
    "\n",
    "Do elementów słownika odwołujemy się za pomocą kluczy:\n",
    "```python\n",
    "value = my_dict[key]\n",
    "my_dict[key] = value\n",
    "```\n",
    "Przy instrukcji podstawienia `my_dict[key] = value` jeśli klucz istnieje to zostanie dodana nowa para `klucz:wartość`, jeśli istnieje, wartość zostanie zastąpiona:"
   ]
  },
  {
   "cell_type": "code",
   "execution_count": 13,
   "id": "6fe30e50",
   "metadata": {},
   "outputs": [
    {
     "name": "stdout",
     "output_type": "stream",
     "text": [
      "My. fav pet is dog\n",
      "{'pet': 'dog', 'food': 'kebab', 'number': 3.14, 'sport': 'curling'}\n"
     ]
    }
   ],
   "source": [
    "favourites['food'] = 'kebab'\n",
    "favourites['sport'] = 'curling'\n",
    "print(favourites)"
   ]
  },
  {
   "cell_type": "markdown",
   "id": "c4227655",
   "metadata": {},
   "source": [
    "w przypadku pobierania wartości, jeśli klucza nie ma, zostanie rzucony wyjątek:"
   ]
  },
  {
   "cell_type": "code",
   "execution_count": 20,
   "id": "8c36bcc6",
   "metadata": {},
   "outputs": [
    {
     "name": "stdout",
     "output_type": "stream",
     "text": [
      "My favourite pet is dog\n"
     ]
    },
    {
     "ename": "KeyError",
     "evalue": "'programming_language'",
     "output_type": "error",
     "traceback": [
      "\u001b[0;31m---------------------------------------------------------------------------\u001b[0m",
      "\u001b[0;31mKeyError\u001b[0m                                  Traceback (most recent call last)",
      "\u001b[0;32m<ipython-input-20-3cb9d58b2873>\u001b[0m in \u001b[0;36m<module>\u001b[0;34m\u001b[0m\n\u001b[1;32m      1\u001b[0m \u001b[0mprint\u001b[0m\u001b[0;34m(\u001b[0m\u001b[0;34mf\"My favourite pet is {favourites['pet']}\"\u001b[0m\u001b[0;34m)\u001b[0m\u001b[0;34m\u001b[0m\u001b[0;34m\u001b[0m\u001b[0m\n\u001b[0;32m----> 2\u001b[0;31m \u001b[0mprint\u001b[0m\u001b[0;34m(\u001b[0m\u001b[0;34mf\"My favourite programmig language is {favourites['programming_language']}\"\u001b[0m\u001b[0;34m)\u001b[0m\u001b[0;34m\u001b[0m\u001b[0;34m\u001b[0m\u001b[0m\n\u001b[0m",
      "\u001b[0;31mKeyError\u001b[0m: 'programming_language'"
     ]
    }
   ],
   "source": [
    "print(f\"My favourite pet is {favourites['pet']}\")\n",
    "print(f\"My favourite programmig language is {favourites['programming_language']}\")"
   ]
  },
  {
   "cell_type": "markdown",
   "id": "5bc4932f",
   "metadata": {},
   "source": [
    "### Metody klasy dict\n",
    "\n",
    "* `d.update(another_dict)` - dokleja słownik `another_dict` do `d`\n",
    "* `d.pop(key)` - usuwa element o podanym kluczu ze słownika\n",
    "* `d.popitem()` - usuwa ostatnio dodany element (od Pythona 3.7)\n",
    "* `d.clear()` - usuwa wszystkie elementy\n",
    "* `d.copy()` - zwraca kopię słownika"
   ]
  },
  {
   "cell_type": "code",
   "execution_count": 3,
   "id": "8aff258d",
   "metadata": {},
   "outputs": [
    {
     "name": "stdout",
     "output_type": "stream",
     "text": [
      "after update: {'a': 1, 'b': 2, 'c': 3, 'd': 4}\n",
      "After pop: {'a': 1, 'b': 2, 'c': 3}\n",
      "After popitem: {'a': 1, 'b': 2}\n"
     ]
    }
   ],
   "source": [
    "d1 = {\"a\": 1, \"b\": 2}\n",
    "d2 = {\"c\": 3, \"d\": 4}\n",
    "d1.update(d2)\n",
    "print(f\"after update: {d1}\")\n",
    "d1.pop(\"d\")\n",
    "print(f\"After pop: {d1}\")\n",
    "d1.popitem()\n",
    "print(f\"After popitem: {d1}\")"
   ]
  },
  {
   "cell_type": "markdown",
   "id": "a08df83a",
   "metadata": {},
   "source": [
    "### Przeglądanie słowników\n",
    "\n",
    "Często potrzebujemy przejrzeć cały słownik, nie wiemy jakie są klucze (a chcemy uniknąć `KeyError`)"
   ]
  },
  {
   "cell_type": "code",
   "execution_count": 14,
   "id": "a5a6820a",
   "metadata": {},
   "outputs": [
    {
     "name": "stdout",
     "output_type": "stream",
     "text": [
      "pet\n",
      "food\n",
      "number\n",
      "sport\n"
     ]
    }
   ],
   "source": [
    "for i in favourites:\n",
    "    print(i)"
   ]
  },
  {
   "cell_type": "code",
   "execution_count": 16,
   "id": "d3ebe535",
   "metadata": {},
   "outputs": [
    {
     "name": "stdout",
     "output_type": "stream",
     "text": [
      "pet\n",
      "food\n",
      "number\n",
      "sport\n"
     ]
    }
   ],
   "source": [
    "for i in favourites.keys():\n",
    "    print(i)"
   ]
  },
  {
   "cell_type": "code",
   "execution_count": 17,
   "id": "e16c8a33",
   "metadata": {},
   "outputs": [
    {
     "name": "stdout",
     "output_type": "stream",
     "text": [
      "dog\n",
      "kebab\n",
      "3.14\n",
      "curling\n"
     ]
    }
   ],
   "source": [
    "for i in favourites.values():\n",
    "    print(i)"
   ]
  },
  {
   "cell_type": "code",
   "execution_count": 19,
   "id": "5878f30c",
   "metadata": {},
   "outputs": [
    {
     "name": "stdout",
     "output_type": "stream",
     "text": [
      "pet == dog\n",
      "food == kebab\n",
      "number == 3.14\n",
      "sport == curling\n"
     ]
    }
   ],
   "source": [
    "for (k, v) in favourites.items():\n",
    "    print(f\"{k} == {v}\")"
   ]
  },
  {
   "cell_type": "code",
   "execution_count": null,
   "id": "a2afc7cf",
   "metadata": {},
   "outputs": [],
   "source": []
  }
 ],
 "metadata": {
  "kernelspec": {
   "display_name": "Python 3",
   "language": "python",
   "name": "python3"
  },
  "language_info": {
   "codemirror_mode": {
    "name": "ipython",
    "version": 3
   },
   "file_extension": ".py",
   "mimetype": "text/x-python",
   "name": "python",
   "nbconvert_exporter": "python",
   "pygments_lexer": "ipython3",
   "version": "3.8.8"
  }
 },
 "nbformat": 4,
 "nbformat_minor": 5
}
